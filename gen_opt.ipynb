{
 "cells": [
  {
   "cell_type": "markdown",
   "id": "8ec65046-b271-4f5f-9c3b-bfa4fc6f54fc",
   "metadata": {},
   "source": [
    "# Sklearn Genetic Optmization\n",
    "___\n"
   ]
  },
  {
   "cell_type": "markdown",
   "id": "10d27b2b-7da1-48df-8fa9-b59acf16329b",
   "metadata": {},
   "source": [
    "![gene](imgs/gene.gif \"gene_gif\")"
   ]
  },
  {
   "cell_type": "markdown",
   "id": "e3755606-19bf-4fcf-b30d-688f9410d0ff",
   "metadata": {},
   "source": [
    "## Introdução & Motivação\n",
    "\n",
    "Todo algoritmo de machine learning precisa passar por um processo de otimização. O mais comum é uma busca de parâmetros de forma aleatória ( *RandomizedSearchCV()* ) ou em grade ( *GridSearchCV()* ) o que traz resultados notadamente positivos em algumas situações porém, a custo de processamento e bastante tempo. Será que existe mais alguma forma de otimizar parâmetros de um modelo do scikit-learn ( sklearn )?\n",
    "\n",
    "Existe sim! Várias formas na verdade, mas vamos aprender a otimizar modelos do sklearn utilizando um **algoritmo genético!!**"
   ]
  },
  {
   "cell_type": "markdown",
   "id": "d76d2fdd-19d1-4f9b-a912-2d62531dd8e6",
   "metadata": {},
   "source": [
    "## Algoritmo Genético\n",
    "\n",
    "Genético? Exatamente! O algoritmo genético é um processo meta-heurístico ( relaxa, que vou explicar o que isso significa ) inspirado na seleção natural. Antes de começarmos é necessário entender alguns conceitos (utilizando parâmetros de uma *DecisionTreeClassifier()*):\n",
    "\n",
    "* Indivíduo -> uma escolha aleatória de parâmetros do modelo.\n",
    "\n",
    "```python\n",
    "individuo001 = {'max_depth':10,'min_samples_leaf':30}\n",
    "```\n",
    "\n",
    "* População -> uma coleção de indivíduos.\n",
    "\n",
    "```python\n",
    "populacaoA = [individuo001,individuo002,individuo003,individuo004,individuo005,individuo006]\n",
    "```\n",
    "\n",
    "* Geração -> uma iteração sob todos os indivíduos da população e medição do fitness.\n",
    "\n",
    "```python\n",
    "gen1 = {'populacao':populacaoA,'fitness':0.79}\n",
    "```\n",
    "\n",
    "* selection -> operador genético de seleção de parentes dentro da população de uma geração.\n",
    "\n",
    "\n",
    "```python\n",
    "individuo001 = {'max_depth':10,'min_samples_leaf':30} -> 'fitness':0.89\n",
    "individuo002 = {'max_depth':20,'min_samples_leaf':50} -> 'fitness':0.12\n",
    "individuo003 = {'max_depth':5,'min_samples_leaf':10} -> 'fitness':0.23\n",
    "individuo004 = {'max_depth':1,'min_samples_leaf':15} -> 'fitness':0.43\n",
    "individuo005 = {'max_depth':25,'min_samples_leaf':1} -> 'fitness':0.76\n",
    "individuo006 = {'max_depth':40,'min_samples_leaf':100} -> 'fitness':0.12\n",
    "\n",
    "parente1 = individuo001\n",
    "parente2 = individuo005\n",
    "```\n",
    "\n",
    "* crossover -> operador genético de cruzamento de parentes para geração de novos indivudos, é a mistura dos parâmetros (selecionando parte do primeiro parente e parte do segundo para gerar novos individuos).\n",
    "\n",
    "```python\n",
    "parente1 = {'max_depth':10,'min_samples_leaf':30}\n",
    "parente2 = {'max_depth':25,'min_samples_leaf':1}\n",
    "\n",
    "filho1,filho2 = crossover(parente1,parente2) \n",
    "\n",
    "print(filho1)\n",
    ">> {'max_depth':10,'min_samples_leaf':1}\n",
    "\n",
    "print(filho2)\n",
    ">> {'max_depth':25,'min_samples_leaf':30}\n",
    "\n",
    "```\n",
    "\n",
    "* mutation -> operador genético de mutação responsável por alterar, aleatoriamente, os parâmetros dos filhos.\n",
    "\n",
    "```python\n",
    "filho1,filho2 = mutation(filho1,filho2,chance_de_mutacao=0.05) \n",
    "\n",
    "print(filho1)\n",
    ">> {'max_depth':10,'min_samples_leaf':12}\n",
    "\n",
    "print(filho2)\n",
    ">> {'max_depth':25,'min_samples_leaf':30}\n",
    "\n",
    "```\n",
    "\n",
    "### Passo a passo\n",
    "\n",
    "1. Geram-se os indivíduos da geração 0 de forma totalmente aleatória;\n",
    "2. Mede-se o fitness de cada indivíduo da geração;\n",
    "3. Executa-se o selection de parentes para o criar a próxima geração;\n",
    "4. Executa-se o crossover de parentes para criar os parâmetros dos filhos;\n",
    "5. Executa-se a função de mutação nos filhos;\n",
    "6. Os filhos (mutados ou não) são a nova geração;\n",
    "7. Repetir os passos de 2 a 6 até alcançar um critério de parada.\n",
    "\n",
    "Todo esse processo vai ser abstraído utilizando a biblioteca <code>sklearn-genetic-opt</code>. Vamos começar?"
   ]
  },
  {
   "cell_type": "markdown",
   "id": "515b0221-f2a0-4cf6-87a6-3d8370a9fbd1",
   "metadata": {},
   "source": [
    "## Palavras Difíceis\n",
    "\n",
    "1. Meta-heurístico : um método para resolver de forma genérica problemas de otimização, bem utilizado quando não se conhece o algoritmo eficiente (ou seja, não temos a resposta). Basicamente é uma busca aleatória em espaços de possíveis respostas.\n",
    "\n",
    "2. fitness : métrica utilizada para avaliar qualidade de cada indivíduo."
   ]
  },
  {
   "cell_type": "markdown",
   "id": "ef44561e-e53c-4591-bbde-27ea31389dd7",
   "metadata": {},
   "source": [
    "## Importações"
   ]
  },
  {
   "cell_type": "code",
   "execution_count": 99,
   "id": "c8d62b2d-62e5-46dd-bc85-4823a85de70c",
   "metadata": {},
   "outputs": [],
   "source": [
    "from sklearn import tree\n",
    "from sklearn.metrics import f1_score\n",
    "from sklearn.pipeline import make_pipeline\n",
    "\n",
    "from sklearn.preprocessing import Normalizer\n",
    "from sklearn.preprocessing import MinMaxScaler\n",
    "from sklearn.preprocessing import StandardScaler\n",
    "from sklearn.preprocessing import OneHotEncoder\n",
    "\n",
    "from sklearn.compose import make_column_transformer\n",
    "from sklearn.ensemble import IsolationForest\n",
    "from sklearn.model_selection import cross_validate\n",
    "\n",
    "from sklearn_genetic import GASearchCV\n",
    "from sklearn_genetic.callbacks import ProgressBar\n",
    "from sklearn_genetic.callbacks import DeltaThreshold\n",
    "from sklearn_genetic.space import Categorical\n",
    "from sklearn_genetic.space import Integer\n",
    "from sklearn_genetic.space import Continuous\n",
    "\n",
    "import matplotlib.pyplot as plt\n",
    "import seaborn as sns\n",
    "import pandas as pd\n",
    "\n",
    "import sklearn\n",
    "sklearn.set_config(display='diagram')"
   ]
  },
  {
   "cell_type": "markdown",
   "id": "0186aae1-430c-417c-839c-dfb79eeaf155",
   "metadata": {},
   "source": [
    "## Os dados\n",
    "\n",
    "O dataset utilizado trata de um problema de classificação de doenças cardiovasculares.\n",
    "\n",
    "link -> [kaggle](https://www.kaggle.com/fedesoriano/heart-failure-prediction)"
   ]
  },
  {
   "cell_type": "code",
   "execution_count": 100,
   "id": "ee066396-ed03-4930-942a-6a405d9995db",
   "metadata": {},
   "outputs": [
    {
     "data": {
      "text/html": [
       "<div>\n",
       "<style scoped>\n",
       "    .dataframe tbody tr th:only-of-type {\n",
       "        vertical-align: middle;\n",
       "    }\n",
       "\n",
       "    .dataframe tbody tr th {\n",
       "        vertical-align: top;\n",
       "    }\n",
       "\n",
       "    .dataframe thead th {\n",
       "        text-align: right;\n",
       "    }\n",
       "</style>\n",
       "<table border=\"1\" class=\"dataframe\">\n",
       "  <thead>\n",
       "    <tr style=\"text-align: right;\">\n",
       "      <th></th>\n",
       "      <th>Age</th>\n",
       "      <th>Sex</th>\n",
       "      <th>ChestPainType</th>\n",
       "      <th>RestingBP</th>\n",
       "      <th>Cholesterol</th>\n",
       "      <th>FastingBS</th>\n",
       "      <th>RestingECG</th>\n",
       "      <th>MaxHR</th>\n",
       "      <th>ExerciseAngina</th>\n",
       "      <th>Oldpeak</th>\n",
       "      <th>ST_Slope</th>\n",
       "      <th>HeartDisease</th>\n",
       "    </tr>\n",
       "  </thead>\n",
       "  <tbody>\n",
       "    <tr>\n",
       "      <th>0</th>\n",
       "      <td>40</td>\n",
       "      <td>M</td>\n",
       "      <td>ATA</td>\n",
       "      <td>140</td>\n",
       "      <td>289</td>\n",
       "      <td>0</td>\n",
       "      <td>Normal</td>\n",
       "      <td>172</td>\n",
       "      <td>N</td>\n",
       "      <td>0.0</td>\n",
       "      <td>Up</td>\n",
       "      <td>0</td>\n",
       "    </tr>\n",
       "    <tr>\n",
       "      <th>1</th>\n",
       "      <td>49</td>\n",
       "      <td>F</td>\n",
       "      <td>NAP</td>\n",
       "      <td>160</td>\n",
       "      <td>180</td>\n",
       "      <td>0</td>\n",
       "      <td>Normal</td>\n",
       "      <td>156</td>\n",
       "      <td>N</td>\n",
       "      <td>1.0</td>\n",
       "      <td>Flat</td>\n",
       "      <td>1</td>\n",
       "    </tr>\n",
       "    <tr>\n",
       "      <th>2</th>\n",
       "      <td>37</td>\n",
       "      <td>M</td>\n",
       "      <td>ATA</td>\n",
       "      <td>130</td>\n",
       "      <td>283</td>\n",
       "      <td>0</td>\n",
       "      <td>ST</td>\n",
       "      <td>98</td>\n",
       "      <td>N</td>\n",
       "      <td>0.0</td>\n",
       "      <td>Up</td>\n",
       "      <td>0</td>\n",
       "    </tr>\n",
       "    <tr>\n",
       "      <th>3</th>\n",
       "      <td>48</td>\n",
       "      <td>F</td>\n",
       "      <td>ASY</td>\n",
       "      <td>138</td>\n",
       "      <td>214</td>\n",
       "      <td>0</td>\n",
       "      <td>Normal</td>\n",
       "      <td>108</td>\n",
       "      <td>Y</td>\n",
       "      <td>1.5</td>\n",
       "      <td>Flat</td>\n",
       "      <td>1</td>\n",
       "    </tr>\n",
       "    <tr>\n",
       "      <th>4</th>\n",
       "      <td>54</td>\n",
       "      <td>M</td>\n",
       "      <td>NAP</td>\n",
       "      <td>150</td>\n",
       "      <td>195</td>\n",
       "      <td>0</td>\n",
       "      <td>Normal</td>\n",
       "      <td>122</td>\n",
       "      <td>N</td>\n",
       "      <td>0.0</td>\n",
       "      <td>Up</td>\n",
       "      <td>0</td>\n",
       "    </tr>\n",
       "  </tbody>\n",
       "</table>\n",
       "</div>"
      ],
      "text/plain": [
       "   Age Sex ChestPainType  RestingBP  Cholesterol  FastingBS RestingECG  MaxHR  \\\n",
       "0   40   M           ATA        140          289          0     Normal    172   \n",
       "1   49   F           NAP        160          180          0     Normal    156   \n",
       "2   37   M           ATA        130          283          0         ST     98   \n",
       "3   48   F           ASY        138          214          0     Normal    108   \n",
       "4   54   M           NAP        150          195          0     Normal    122   \n",
       "\n",
       "  ExerciseAngina  Oldpeak ST_Slope  HeartDisease  \n",
       "0              N      0.0       Up             0  \n",
       "1              N      1.0     Flat             1  \n",
       "2              N      0.0       Up             0  \n",
       "3              Y      1.5     Flat             1  \n",
       "4              N      0.0       Up             0  "
      ]
     },
     "execution_count": 100,
     "metadata": {},
     "output_type": "execute_result"
    }
   ],
   "source": [
    "df = pd.read_csv('data/heart.csv')\n",
    "df.head()"
   ]
  },
  {
   "cell_type": "markdown",
   "id": "b03affc8-900a-449a-823f-796467433e0e",
   "metadata": {},
   "source": [
    "### Valores nulos"
   ]
  },
  {
   "cell_type": "code",
   "execution_count": 101,
   "id": "641dd8a6-1db4-4e21-b3b1-2d9a414e6ba6",
   "metadata": {},
   "outputs": [
    {
     "data": {
      "image/png": "[encoded data removed]",
      "text/plain": [
       "<Figure size 864x432 with 2 Axes>"
      ]
     },
     "metadata": {
      "needs_background": "light"
     },
     "output_type": "display_data"
    }
   ],
   "source": [
    "f, ax = plt.subplots(figsize=(12,6))\n",
    "sns.heatmap(df.isna(),ax=ax,vmin=0,vmax=1)\n",
    "plt.show()"
   ]
  },
  {
   "cell_type": "markdown",
   "id": "048f6b8c-a1e1-4094-9007-14965041a752",
   "metadata": {},
   "source": [
    "Não existe nenhum valor nulo dentro do dataset. Por isso, podemos continuar com o trabalho."
   ]
  },
  {
   "cell_type": "markdown",
   "id": "68c78462-3e34-479d-b4d5-f3a55ed95f23",
   "metadata": {},
   "source": [
    "### Vetorização\n",
    "\n",
    "Para nosso trabalho será necessário, primeiro, executar a vetorização dos dados, ou seja, transformar cada observação em um vetor de valores que possa ser trabalho matematicamente."
   ]
  },
  {
   "cell_type": "code",
   "execution_count": 102,
   "id": "5815242d-1e6d-477d-a6f5-897cc19592cd",
   "metadata": {},
   "outputs": [],
   "source": [
    "## criando os pipelines para tratamento de valores categóricos e numéricos\n",
    "cat_features = ['Sex','ChestPainType','RestingECG','ExerciseAngina','ST_Slope']\n",
    "num_features = ['Age','RestingBP','Cholesterol','FastingBS','MaxHR','Oldpeak']\n",
    "\n",
    "pipe_cat = make_pipeline(OneHotEncoder())\n",
    "pipe_num = make_pipeline(Normalizer(),MinMaxScaler())"
   ]
  },
  {
   "cell_type": "code",
   "execution_count": 103,
   "id": "cd04bd31-d176-49d0-9532-2c8e5b4548cc",
   "metadata": {},
   "outputs": [
    {
     "data": {
      "text/html": [
       "<style>#sk-d68cb33a-6f26-4951-8556-1618c6eee70d {color: black;background-color: white;}#sk-d68cb33a-6f26-4951-8556-1618c6eee70d pre{padding: 0;}#sk-d68cb33a-6f26-4951-8556-1618c6eee70d div.sk-toggleable {background-color: white;}#sk-d68cb33a-6f26-4951-8556-1618c6eee70d label.sk-toggleable__label {cursor: pointer;display: block;width: 100%;margin-bottom: 0;padding: 0.3em;box-sizing: border-box;text-align: center;}#sk-d68cb33a-6f26-4951-8556-1618c6eee70d div.sk-toggleable__content {max-height: 0;max-width: 0;overflow: hidden;text-align: left;background-color: #f0f8ff;}#sk-d68cb33a-6f26-4951-8556-1618c6eee70d div.sk-toggleable__content pre {margin: 0.2em;color: black;border-radius: 0.25em;background-color: #f0f8ff;}#sk-d68cb33a-6f26-4951-8556-1618c6eee70d input.sk-toggleable__control:checked~div.sk-toggleable__content {max-height: 200px;max-width: 100%;overflow: auto;}#sk-d68cb33a-6f26-4951-8556-1618c6eee70d div.sk-estimator input.sk-toggleable__control:checked~label.sk-toggleable__label {background-color: #d4ebff;}#sk-d68cb33a-6f26-4951-8556-1618c6eee70d div.sk-label input.sk-toggleable__control:checked~label.sk-toggleable__label {background-color: #d4ebff;}#sk-d68cb33a-6f26-4951-8556-1618c6eee70d input.sk-hidden--visually {border: 0;clip: rect(1px 1px 1px 1px);clip: rect(1px, 1px, 1px, 1px);height: 1px;margin: -1px;overflow: hidden;padding: 0;position: absolute;width: 1px;}#sk-d68cb33a-6f26-4951-8556-1618c6eee70d div.sk-estimator {font-family: monospace;background-color: #f0f8ff;border: 1px dotted black;border-radius: 0.25em;box-sizing: border-box;margin-bottom: 0.5em;}#sk-d68cb33a-6f26-4951-8556-1618c6eee70d div.sk-estimator:hover {background-color: #d4ebff;}#sk-d68cb33a-6f26-4951-8556-1618c6eee70d div.sk-parallel-item::after {content: \"\";width: 100%;border-bottom: 1px solid gray;flex-grow: 1;}#sk-d68cb33a-6f26-4951-8556-1618c6eee70d div.sk-label:hover label.sk-toggleable__label {background-color: #d4ebff;}#sk-d68cb33a-6f26-4951-8556-1618c6eee70d div.sk-serial::before {content: \"\";position: absolute;border-left: 1px solid gray;box-sizing: border-box;top: 2em;bottom: 0;left: 50%;}#sk-d68cb33a-6f26-4951-8556-1618c6eee70d div.sk-serial {display: flex;flex-direction: column;align-items: center;background-color: white;padding-right: 0.2em;padding-left: 0.2em;}#sk-d68cb33a-6f26-4951-8556-1618c6eee70d div.sk-item {z-index: 1;}#sk-d68cb33a-6f26-4951-8556-1618c6eee70d div.sk-parallel {display: flex;align-items: stretch;justify-content: center;background-color: white;}#sk-d68cb33a-6f26-4951-8556-1618c6eee70d div.sk-parallel::before {content: \"\";position: absolute;border-left: 1px solid gray;box-sizing: border-box;top: 2em;bottom: 0;left: 50%;}#sk-d68cb33a-6f26-4951-8556-1618c6eee70d div.sk-parallel-item {display: flex;flex-direction: column;position: relative;background-color: white;}#sk-d68cb33a-6f26-4951-8556-1618c6eee70d div.sk-parallel-item:first-child::after {align-self: flex-end;width: 50%;}#sk-d68cb33a-6f26-4951-8556-1618c6eee70d div.sk-parallel-item:last-child::after {align-self: flex-start;width: 50%;}#sk-d68cb33a-6f26-4951-8556-1618c6eee70d div.sk-parallel-item:only-child::after {width: 0;}#sk-d68cb33a-6f26-4951-8556-1618c6eee70d div.sk-dashed-wrapped {border: 1px dashed gray;margin: 0 0.4em 0.5em 0.4em;box-sizing: border-box;padding-bottom: 0.4em;background-color: white;position: relative;}#sk-d68cb33a-6f26-4951-8556-1618c6eee70d div.sk-label label {font-family: monospace;font-weight: bold;background-color: white;display: inline-block;line-height: 1.2em;}#sk-d68cb33a-6f26-4951-8556-1618c6eee70d div.sk-label-container {position: relative;z-index: 2;text-align: center;}#sk-d68cb33a-6f26-4951-8556-1618c6eee70d div.sk-container {display: inline-block;position: relative;}</style><div id=\"sk-d68cb33a-6f26-4951-8556-1618c6eee70d\" class\"sk-top-container\"><div class=\"sk-container\"><div class=\"sk-item sk-dashed-wrapped\"><div class=\"sk-label-container\"><div class=\"sk-label sk-toggleable\"><input class=\"sk-toggleable__control sk-hidden--visually\" id=\"54cd6e7c-5bbf-4e7d-bbf7-69108c3cb206\" type=\"checkbox\" ><label class=\"sk-toggleable__label\" for=\"54cd6e7c-5bbf-4e7d-bbf7-69108c3cb206\">ColumnTransformer</label><div class=\"sk-toggleable__content\"><pre>ColumnTransformer(transformers=[('pipeline-1',\n",
       "                                 Pipeline(steps=[('onehotencoder',\n",
       "                                                  OneHotEncoder())]),\n",
       "                                 ['Sex', 'ChestPainType', 'RestingECG',\n",
       "                                  'ExerciseAngina', 'ST_Slope']),\n",
       "                                ('pipeline-2',\n",
       "                                 Pipeline(steps=[('normalizer', Normalizer()),\n",
       "                                                 ('minmaxscaler',\n",
       "                                                  MinMaxScaler())]),\n",
       "                                 ['Age', 'RestingBP', 'Cholesterol',\n",
       "                                  'FastingBS', 'MaxHR', 'Oldpeak'])])</pre></div></div></div><div class=\"sk-parallel\"><div class=\"sk-parallel-item\"><div class=\"sk-item\"><div class=\"sk-label-container\"><div class=\"sk-label sk-toggleable\"><input class=\"sk-toggleable__control sk-hidden--visually\" id=\"67e410d9-1e6a-47c6-bf5a-1086e02460f4\" type=\"checkbox\" ><label class=\"sk-toggleable__label\" for=\"67e410d9-1e6a-47c6-bf5a-1086e02460f4\">pipeline-1</label><div class=\"sk-toggleable__content\"><pre>['Sex', 'ChestPainType', 'RestingECG', 'ExerciseAngina', 'ST_Slope']</pre></div></div></div><div class=\"sk-serial\"><div class=\"sk-item\"><div class=\"sk-serial\"><div class=\"sk-item\"><div class=\"sk-estimator sk-toggleable\"><input class=\"sk-toggleable__control sk-hidden--visually\" id=\"be94d1e7-44d7-4b9d-939f-6baf95e270b9\" type=\"checkbox\" ><label class=\"sk-toggleable__label\" for=\"be94d1e7-44d7-4b9d-939f-6baf95e270b9\">OneHotEncoder</label><div class=\"sk-toggleable__content\"><pre>OneHotEncoder()</pre></div></div></div></div></div></div></div></div><div class=\"sk-parallel-item\"><div class=\"sk-item\"><div class=\"sk-label-container\"><div class=\"sk-label sk-toggleable\"><input class=\"sk-toggleable__control sk-hidden--visually\" id=\"0077c954-c124-4ee2-a9c2-0c79aa739c44\" type=\"checkbox\" ><label class=\"sk-toggleable__label\" for=\"0077c954-c124-4ee2-a9c2-0c79aa739c44\">pipeline-2</label><div class=\"sk-toggleable__content\"><pre>['Age', 'RestingBP', 'Cholesterol', 'FastingBS', 'MaxHR', 'Oldpeak']</pre></div></div></div><div class=\"sk-serial\"><div class=\"sk-item\"><div class=\"sk-serial\"><div class=\"sk-item\"><div class=\"sk-estimator sk-toggleable\"><input class=\"sk-toggleable__control sk-hidden--visually\" id=\"1cd10bd0-d77d-440a-adcc-608a25d08399\" type=\"checkbox\" ><label class=\"sk-toggleable__label\" for=\"1cd10bd0-d77d-440a-adcc-608a25d08399\">Normalizer</label><div class=\"sk-toggleable__content\"><pre>Normalizer()</pre></div></div></div><div class=\"sk-item\"><div class=\"sk-estimator sk-toggleable\"><input class=\"sk-toggleable__control sk-hidden--visually\" id=\"6d4c1586-c56c-45ff-8d8e-89171ced2ad1\" type=\"checkbox\" ><label class=\"sk-toggleable__label\" for=\"6d4c1586-c56c-45ff-8d8e-89171ced2ad1\">MinMaxScaler</label><div class=\"sk-toggleable__content\"><pre>MinMaxScaler()</pre></div></div></div></div></div></div></div></div></div></div></div></div>"
      ],
      "text/plain": [
       "ColumnTransformer(transformers=[('pipeline-1',\n",
       "                                 Pipeline(steps=[('onehotencoder',\n",
       "                                                  OneHotEncoder())]),\n",
       "                                 ['Sex', 'ChestPainType', 'RestingECG',\n",
       "                                  'ExerciseAngina', 'ST_Slope']),\n",
       "                                ('pipeline-2',\n",
       "                                 Pipeline(steps=[('normalizer', Normalizer()),\n",
       "                                                 ('minmaxscaler',\n",
       "                                                  MinMaxScaler())]),\n",
       "                                 ['Age', 'RestingBP', 'Cholesterol',\n",
       "                                  'FastingBS', 'MaxHR', 'Oldpeak'])])"
      ]
     },
     "execution_count": 103,
     "metadata": {},
     "output_type": "execute_result"
    }
   ],
   "source": [
    "col_transformer = make_column_transformer(\n",
    "    (pipe_cat,cat_features),\n",
    "    (pipe_num,num_features))\n",
    "\n",
    "col_transformer"
   ]
  },
  {
   "cell_type": "code",
   "execution_count": 104,
   "id": "b9473b55-2d42-4483-9c15-4a540bad530a",
   "metadata": {},
   "outputs": [],
   "source": [
    "x = df[cat_features+num_features]\n",
    "y = df.HeartDisease"
   ]
  },
  {
   "cell_type": "code",
   "execution_count": 105,
   "id": "d134aba7-3af6-44c3-a3de-0a5e8e37f25d",
   "metadata": {},
   "outputs": [],
   "source": [
    "x_vectorized = col_transformer.fit_transform(x)"
   ]
  },
  {
   "cell_type": "markdown",
   "id": "5f03ae94-5517-44ff-8ce0-da51394b6d33",
   "metadata": {},
   "source": [
    "### Removendo Outliers"
   ]
  },
  {
   "cell_type": "code",
   "execution_count": 106,
   "id": "0a658da1-6458-4124-ac7c-74e9bcddc39a",
   "metadata": {},
   "outputs": [],
   "source": [
    "iso = IsolationForest(random_state=42,n_estimators=300,contamination=0.09)\n",
    "mask = pd.Series(iso.fit_predict(x_vectorized)).replace(-1,False).replace(1,True)"
   ]
  },
  {
   "cell_type": "code",
   "execution_count": 107,
   "id": "012b2c60-1ec9-4175-9aae-cfa7ceb745d7",
   "metadata": {},
   "outputs": [
    {
     "data": {
      "image/png": "[encoded data removed]",
      "text/plain": [
       "<Figure size 864x432 with 2 Axes>"
      ]
     },
     "metadata": {
      "needs_background": "light"
     },
     "output_type": "display_data"
    }
   ],
   "source": [
    "f, ax = plt.subplots(1,2,figsize=(12,6),sharey=True)\n",
    "\n",
    "anon_score = iso.decision_function(x_vectorized)\n",
    "ax[0].boxplot(anon_score)\n",
    "ax[0].set_xticklabels([])\n",
    "ax[0].set_ylabel('Anomaly Score')\n",
    "ax[0].axhspan(anon_score.min(),0,alpha=0.3,color='tab:red',label='outliers')\n",
    "ax[0].legend()\n",
    "\n",
    "ax[1].hist(anon_score,orientation='horizontal')\n",
    "ax[1].axhspan(anon_score.min(),0,alpha=0.3,color='tab:red',label='outliers')\n",
    "ax[1].set_xlabel('Contagem')\n",
    "ax[1].legend()\n",
    "\n",
    "plt.show()"
   ]
  },
  {
   "cell_type": "code",
   "execution_count": 108,
   "id": "64514f91-3a84-4eba-a0ac-93d1e6ba439d",
   "metadata": {},
   "outputs": [],
   "source": [
    "x_no_out = x[mask]\n",
    "y_no_out = y[mask]"
   ]
  },
  {
   "cell_type": "markdown",
   "id": "5045b80d-2b2a-44dd-b55b-474af5e9e604",
   "metadata": {},
   "source": [
    "## Modelagem"
   ]
  },
  {
   "cell_type": "markdown",
   "id": "54fead87-1474-4019-a7f1-5a5c5ee256b2",
   "metadata": {},
   "source": [
    "### DecisionTree"
   ]
  },
  {
   "cell_type": "markdown",
   "id": "6a3a0cf9-8511-4190-aa18-f19aef8f5812",
   "metadata": {},
   "source": [
    "Vamos criar um pipeline final contendo o objeto de pré-processamento e o modelo."
   ]
  },
  {
   "cell_type": "code",
   "execution_count": 109,
   "id": "acc6e9d4-2dca-4fbe-9bc2-5a601d27125f",
   "metadata": {},
   "outputs": [
    {
     "data": {
      "text/html": [
       "<style>#sk-93f7a95c-6526-46eb-beea-277588895b91 {color: black;background-color: white;}#sk-93f7a95c-6526-46eb-beea-277588895b91 pre{padding: 0;}#sk-93f7a95c-6526-46eb-beea-277588895b91 div.sk-toggleable {background-color: white;}#sk-93f7a95c-6526-46eb-beea-277588895b91 label.sk-toggleable__label {cursor: pointer;display: block;width: 100%;margin-bottom: 0;padding: 0.3em;box-sizing: border-box;text-align: center;}#sk-93f7a95c-6526-46eb-beea-277588895b91 div.sk-toggleable__content {max-height: 0;max-width: 0;overflow: hidden;text-align: left;background-color: #f0f8ff;}#sk-93f7a95c-6526-46eb-beea-277588895b91 div.sk-toggleable__content pre {margin: 0.2em;color: black;border-radius: 0.25em;background-color: #f0f8ff;}#sk-93f7a95c-6526-46eb-beea-277588895b91 input.sk-toggleable__control:checked~div.sk-toggleable__content {max-height: 200px;max-width: 100%;overflow: auto;}#sk-93f7a95c-6526-46eb-beea-277588895b91 div.sk-estimator input.sk-toggleable__control:checked~label.sk-toggleable__label {background-color: #d4ebff;}#sk-93f7a95c-6526-46eb-beea-277588895b91 div.sk-label input.sk-toggleable__control:checked~label.sk-toggleable__label {background-color: #d4ebff;}#sk-93f7a95c-6526-46eb-beea-277588895b91 input.sk-hidden--visually {border: 0;clip: rect(1px 1px 1px 1px);clip: rect(1px, 1px, 1px, 1px);height: 1px;margin: -1px;overflow: hidden;padding: 0;position: absolute;width: 1px;}#sk-93f7a95c-6526-46eb-beea-277588895b91 div.sk-estimator {font-family: monospace;background-color: #f0f8ff;border: 1px dotted black;border-radius: 0.25em;box-sizing: border-box;margin-bottom: 0.5em;}#sk-93f7a95c-6526-46eb-beea-277588895b91 div.sk-estimator:hover {background-color: #d4ebff;}#sk-93f7a95c-6526-46eb-beea-277588895b91 div.sk-parallel-item::after {content: \"\";width: 100%;border-bottom: 1px solid gray;flex-grow: 1;}#sk-93f7a95c-6526-46eb-beea-277588895b91 div.sk-label:hover label.sk-toggleable__label {background-color: #d4ebff;}#sk-93f7a95c-6526-46eb-beea-277588895b91 div.sk-serial::before {content: \"\";position: absolute;border-left: 1px solid gray;box-sizing: border-box;top: 2em;bottom: 0;left: 50%;}#sk-93f7a95c-6526-46eb-beea-277588895b91 div.sk-serial {display: flex;flex-direction: column;align-items: center;background-color: white;padding-right: 0.2em;padding-left: 0.2em;}#sk-93f7a95c-6526-46eb-beea-277588895b91 div.sk-item {z-index: 1;}#sk-93f7a95c-6526-46eb-beea-277588895b91 div.sk-parallel {display: flex;align-items: stretch;justify-content: center;background-color: white;}#sk-93f7a95c-6526-46eb-beea-277588895b91 div.sk-parallel::before {content: \"\";position: absolute;border-left: 1px solid gray;box-sizing: border-box;top: 2em;bottom: 0;left: 50%;}#sk-93f7a95c-6526-46eb-beea-277588895b91 div.sk-parallel-item {display: flex;flex-direction: column;position: relative;background-color: white;}#sk-93f7a95c-6526-46eb-beea-277588895b91 div.sk-parallel-item:first-child::after {align-self: flex-end;width: 50%;}#sk-93f7a95c-6526-46eb-beea-277588895b91 div.sk-parallel-item:last-child::after {align-self: flex-start;width: 50%;}#sk-93f7a95c-6526-46eb-beea-277588895b91 div.sk-parallel-item:only-child::after {width: 0;}#sk-93f7a95c-6526-46eb-beea-277588895b91 div.sk-dashed-wrapped {border: 1px dashed gray;margin: 0 0.4em 0.5em 0.4em;box-sizing: border-box;padding-bottom: 0.4em;background-color: white;position: relative;}#sk-93f7a95c-6526-46eb-beea-277588895b91 div.sk-label label {font-family: monospace;font-weight: bold;background-color: white;display: inline-block;line-height: 1.2em;}#sk-93f7a95c-6526-46eb-beea-277588895b91 div.sk-label-container {position: relative;z-index: 2;text-align: center;}#sk-93f7a95c-6526-46eb-beea-277588895b91 div.sk-container {display: inline-block;position: relative;}</style><div id=\"sk-93f7a95c-6526-46eb-beea-277588895b91\" class\"sk-top-container\"><div class=\"sk-container\"><div class=\"sk-item sk-dashed-wrapped\"><div class=\"sk-label-container\"><div class=\"sk-label sk-toggleable\"><input class=\"sk-toggleable__control sk-hidden--visually\" id=\"1228723e-780e-4e08-aeb2-8cf4182296dd\" type=\"checkbox\" ><label class=\"sk-toggleable__label\" for=\"1228723e-780e-4e08-aeb2-8cf4182296dd\">Pipeline</label><div class=\"sk-toggleable__content\"><pre>Pipeline(steps=[('columntransformer',\n",
       "                 ColumnTransformer(transformers=[('pipeline-1',\n",
       "                                                  Pipeline(steps=[('onehotencoder',\n",
       "                                                                   OneHotEncoder())]),\n",
       "                                                  ['Sex', 'ChestPainType',\n",
       "                                                   'RestingECG',\n",
       "                                                   'ExerciseAngina',\n",
       "                                                   'ST_Slope']),\n",
       "                                                 ('pipeline-2',\n",
       "                                                  Pipeline(steps=[('normalizer',\n",
       "                                                                   Normalizer()),\n",
       "                                                                  ('minmaxscaler',\n",
       "                                                                   MinMaxScaler())]),\n",
       "                                                  ['Age', 'RestingBP',\n",
       "                                                   'Cholesterol', 'FastingBS',\n",
       "                                                   'MaxHR', 'Oldpeak'])])),\n",
       "                ('decisiontreeclassifier',\n",
       "                 DecisionTreeClassifier(random_state=42))])</pre></div></div></div><div class=\"sk-serial\"><div class=\"sk-item sk-dashed-wrapped\"><div class=\"sk-label-container\"><div class=\"sk-label sk-toggleable\"><input class=\"sk-toggleable__control sk-hidden--visually\" id=\"2fc124ad-a206-4642-9e63-1cc6a66b3bff\" type=\"checkbox\" ><label class=\"sk-toggleable__label\" for=\"2fc124ad-a206-4642-9e63-1cc6a66b3bff\">columntransformer: ColumnTransformer</label><div class=\"sk-toggleable__content\"><pre>ColumnTransformer(transformers=[('pipeline-1',\n",
       "                                 Pipeline(steps=[('onehotencoder',\n",
       "                                                  OneHotEncoder())]),\n",
       "                                 ['Sex', 'ChestPainType', 'RestingECG',\n",
       "                                  'ExerciseAngina', 'ST_Slope']),\n",
       "                                ('pipeline-2',\n",
       "                                 Pipeline(steps=[('normalizer', Normalizer()),\n",
       "                                                 ('minmaxscaler',\n",
       "                                                  MinMaxScaler())]),\n",
       "                                 ['Age', 'RestingBP', 'Cholesterol',\n",
       "                                  'FastingBS', 'MaxHR', 'Oldpeak'])])</pre></div></div></div><div class=\"sk-parallel\"><div class=\"sk-parallel-item\"><div class=\"sk-item\"><div class=\"sk-label-container\"><div class=\"sk-label sk-toggleable\"><input class=\"sk-toggleable__control sk-hidden--visually\" id=\"ae8c2bda-34b9-4171-a41f-85508e974f7f\" type=\"checkbox\" ><label class=\"sk-toggleable__label\" for=\"ae8c2bda-34b9-4171-a41f-85508e974f7f\">pipeline-1</label><div class=\"sk-toggleable__content\"><pre>['Sex', 'ChestPainType', 'RestingECG', 'ExerciseAngina', 'ST_Slope']</pre></div></div></div><div class=\"sk-serial\"><div class=\"sk-item\"><div class=\"sk-serial\"><div class=\"sk-item\"><div class=\"sk-estimator sk-toggleable\"><input class=\"sk-toggleable__control sk-hidden--visually\" id=\"b4a0739b-48b6-4b93-94c2-46db2d8e8900\" type=\"checkbox\" ><label class=\"sk-toggleable__label\" for=\"b4a0739b-48b6-4b93-94c2-46db2d8e8900\">OneHotEncoder</label><div class=\"sk-toggleable__content\"><pre>OneHotEncoder()</pre></div></div></div></div></div></div></div></div><div class=\"sk-parallel-item\"><div class=\"sk-item\"><div class=\"sk-label-container\"><div class=\"sk-label sk-toggleable\"><input class=\"sk-toggleable__control sk-hidden--visually\" id=\"b9ad4a32-9daa-4321-99ec-f374f086f2f4\" type=\"checkbox\" ><label class=\"sk-toggleable__label\" for=\"b9ad4a32-9daa-4321-99ec-f374f086f2f4\">pipeline-2</label><div class=\"sk-toggleable__content\"><pre>['Age', 'RestingBP', 'Cholesterol', 'FastingBS', 'MaxHR', 'Oldpeak']</pre></div></div></div><div class=\"sk-serial\"><div class=\"sk-item\"><div class=\"sk-serial\"><div class=\"sk-item\"><div class=\"sk-estimator sk-toggleable\"><input class=\"sk-toggleable__control sk-hidden--visually\" id=\"b7b76449-ea2a-4d61-bf51-3601385ec5ad\" type=\"checkbox\" ><label class=\"sk-toggleable__label\" for=\"b7b76449-ea2a-4d61-bf51-3601385ec5ad\">Normalizer</label><div class=\"sk-toggleable__content\"><pre>Normalizer()</pre></div></div></div><div class=\"sk-item\"><div class=\"sk-estimator sk-toggleable\"><input class=\"sk-toggleable__control sk-hidden--visually\" id=\"9930f02c-cc8f-4a0a-9cc7-871b8e32b581\" type=\"checkbox\" ><label class=\"sk-toggleable__label\" for=\"9930f02c-cc8f-4a0a-9cc7-871b8e32b581\">MinMaxScaler</label><div class=\"sk-toggleable__content\"><pre>MinMaxScaler()</pre></div></div></div></div></div></div></div></div></div></div><div class=\"sk-item\"><div class=\"sk-estimator sk-toggleable\"><input class=\"sk-toggleable__control sk-hidden--visually\" id=\"063b9263-a5cd-44e2-85bd-76a1b43c5004\" type=\"checkbox\" ><label class=\"sk-toggleable__label\" for=\"063b9263-a5cd-44e2-85bd-76a1b43c5004\">DecisionTreeClassifier</label><div class=\"sk-toggleable__content\"><pre>DecisionTreeClassifier(random_state=42)</pre></div></div></div></div></div></div></div>"
      ],
      "text/plain": [
       "Pipeline(steps=[('columntransformer',\n",
       "                 ColumnTransformer(transformers=[('pipeline-1',\n",
       "                                                  Pipeline(steps=[('onehotencoder',\n",
       "                                                                   OneHotEncoder())]),\n",
       "                                                  ['Sex', 'ChestPainType',\n",
       "                                                   'RestingECG',\n",
       "                                                   'ExerciseAngina',\n",
       "                                                   'ST_Slope']),\n",
       "                                                 ('pipeline-2',\n",
       "                                                  Pipeline(steps=[('normalizer',\n",
       "                                                                   Normalizer()),\n",
       "                                                                  ('minmaxscaler',\n",
       "                                                                   MinMaxScaler())]),\n",
       "                                                  ['Age', 'RestingBP',\n",
       "                                                   'Cholesterol', 'FastingBS',\n",
       "                                                   'MaxHR', 'Oldpeak'])])),\n",
       "                ('decisiontreeclassifier',\n",
       "                 DecisionTreeClassifier(random_state=42))])"
      ]
     },
     "execution_count": 109,
     "metadata": {},
     "output_type": "execute_result"
    }
   ],
   "source": [
    "pipe_final = make_pipeline(col_transformer,tree.DecisionTreeClassifier(random_state=42))\n",
    "pipe_final"
   ]
  },
  {
   "cell_type": "markdown",
   "id": "76f906b4-619f-4444-8760-f343bce5b1cc",
   "metadata": {},
   "source": [
    "Esse objeto pipe_final contém as etapas de pré-processamento e também o modelo. Essa arquitetura de pré-processamento e pipelines foram escolhidas para que também sejam otimizadas pelo algoritmo genético."
   ]
  },
  {
   "cell_type": "code",
   "execution_count": 111,
   "id": "6f275817-471d-4aff-9824-b8785eca055c",
   "metadata": {},
   "outputs": [],
   "source": [
    "cross_val_log = cross_validate(pipe_final,\n",
    "                               x_no_out,\n",
    "                               y_no_out,\n",
    "                               scoring='f1',\n",
    "                               return_train_score=True,\n",
    "                               cv=10,\n",
    "                               return_estimator=True)"
   ]
  },
  {
   "cell_type": "code",
   "execution_count": 114,
   "id": "13481544-5779-42c9-9f8e-619d9375d5ab",
   "metadata": {},
   "outputs": [
    {
     "data": {
      "image/png": "[encoded data removed]",
      "text/plain": [
       "<Figure size 1008x432 with 1 Axes>"
      ]
     },
     "metadata": {
      "needs_background": "light"
     },
     "output_type": "display_data"
    }
   ],
   "source": [
    "f ,ax = plt.subplots(figsize=(14,6))\n",
    "\n",
    "ax.plot(cross_val_log['test_score'],label='test_f1')\n",
    "ax.axhline(cross_val_log['test_score'].mean(),ls='--',label='mean_f1',color='tab:orange')\n",
    "ax.text(x=8.5,y=cross_val_log['test_score'].mean()*1.005,s=f\"mean : {round(cross_val_log['test_score'].mean(),3)}\")\n",
    "ax.set_xlabel('Iteração de validação cruzada')\n",
    "ax.set_ylabel('f1 score')\n",
    "ax.set_title('Validação cruzada')\n",
    "\n",
    "ax.legend()\n",
    "plt.show()"
   ]
  },
  {
   "cell_type": "markdown",
   "id": "a4039d53-1b2c-4497-be00-76c31dc91a19",
   "metadata": {},
   "source": [
    "Sem nenhum processo de otimização a *DecisionTreeClassifier()* o f1 médio da classe positiva é de 0.795."
   ]
  },
  {
   "cell_type": "markdown",
   "id": "8d33d16d-8eda-4c43-9300-1df41dc58f9a",
   "metadata": {},
   "source": [
    "### Algoritmo Genético"
   ]
  },
  {
   "cell_type": "markdown",
   "id": "138dd85f-f263-48d7-8a88-4caec9ddb98d",
   "metadata": {},
   "source": [
    "Utilizaremos a biblioteca [sklearn-genetic-opt](https://sklearn-genetic-opt.readthedocs.io/en/stable/tutorials/basic_usage.html). O primeiro passo é a definição dos espaços de escolha de cada um dos parâmetros."
   ]
  },
  {
   "cell_type": "code",
   "execution_count": 115,
   "id": "8b0c1235-0d02-4226-962d-568cbe64af74",
   "metadata": {},
   "outputs": [
    {
     "data": {
      "text/plain": [
       "{'memory': None,\n",
       " 'steps': [('columntransformer',\n",
       "   ColumnTransformer(transformers=[('pipeline-1',\n",
       "                                    Pipeline(steps=[('onehotencoder',\n",
       "                                                     OneHotEncoder())]),\n",
       "                                    ['Sex', 'ChestPainType', 'RestingECG',\n",
       "                                     'ExerciseAngina', 'ST_Slope']),\n",
       "                                   ('pipeline-2',\n",
       "                                    Pipeline(steps=[('normalizer', Normalizer()),\n",
       "                                                    ('minmaxscaler',\n",
       "                                                     MinMaxScaler())]),\n",
       "                                    ['Age', 'RestingBP', 'Cholesterol',\n",
       "                                     'FastingBS', 'MaxHR', 'Oldpeak'])])),\n",
       "  ('decisiontreeclassifier', DecisionTreeClassifier(random_state=42))],\n",
       " 'verbose': False,\n",
       " 'columntransformer': ColumnTransformer(transformers=[('pipeline-1',\n",
       "                                  Pipeline(steps=[('onehotencoder',\n",
       "                                                   OneHotEncoder())]),\n",
       "                                  ['Sex', 'ChestPainType', 'RestingECG',\n",
       "                                   'ExerciseAngina', 'ST_Slope']),\n",
       "                                 ('pipeline-2',\n",
       "                                  Pipeline(steps=[('normalizer', Normalizer()),\n",
       "                                                  ('minmaxscaler',\n",
       "                                                   MinMaxScaler())]),\n",
       "                                  ['Age', 'RestingBP', 'Cholesterol',\n",
       "                                   'FastingBS', 'MaxHR', 'Oldpeak'])]),\n",
       " 'decisiontreeclassifier': DecisionTreeClassifier(random_state=42),\n",
       " 'columntransformer__n_jobs': None,\n",
       " 'columntransformer__remainder': 'drop',\n",
       " 'columntransformer__sparse_threshold': 0.3,\n",
       " 'columntransformer__transformer_weights': None,\n",
       " 'columntransformer__transformers': [('pipeline-1',\n",
       "   Pipeline(steps=[('onehotencoder', OneHotEncoder())]),\n",
       "   ['Sex', 'ChestPainType', 'RestingECG', 'ExerciseAngina', 'ST_Slope']),\n",
       "  ('pipeline-2',\n",
       "   Pipeline(steps=[('normalizer', Normalizer()), ('minmaxscaler', MinMaxScaler())]),\n",
       "   ['Age', 'RestingBP', 'Cholesterol', 'FastingBS', 'MaxHR', 'Oldpeak'])],\n",
       " 'columntransformer__verbose': False,\n",
       " 'columntransformer__verbose_feature_names_out': True,\n",
       " 'columntransformer__pipeline-1': Pipeline(steps=[('onehotencoder', OneHotEncoder())]),\n",
       " 'columntransformer__pipeline-2': Pipeline(steps=[('normalizer', Normalizer()), ('minmaxscaler', MinMaxScaler())]),\n",
       " 'columntransformer__pipeline-1__memory': None,\n",
       " 'columntransformer__pipeline-1__steps': [('onehotencoder', OneHotEncoder())],\n",
       " 'columntransformer__pipeline-1__verbose': False,\n",
       " 'columntransformer__pipeline-1__onehotencoder': OneHotEncoder(),\n",
       " 'columntransformer__pipeline-1__onehotencoder__categories': 'auto',\n",
       " 'columntransformer__pipeline-1__onehotencoder__drop': None,\n",
       " 'columntransformer__pipeline-1__onehotencoder__dtype': numpy.float64,\n",
       " 'columntransformer__pipeline-1__onehotencoder__handle_unknown': 'error',\n",
       " 'columntransformer__pipeline-1__onehotencoder__sparse': True,\n",
       " 'columntransformer__pipeline-2__memory': None,\n",
       " 'columntransformer__pipeline-2__steps': [('normalizer', Normalizer()),\n",
       "  ('minmaxscaler', MinMaxScaler())],\n",
       " 'columntransformer__pipeline-2__verbose': False,\n",
       " 'columntransformer__pipeline-2__normalizer': Normalizer(),\n",
       " 'columntransformer__pipeline-2__minmaxscaler': MinMaxScaler(),\n",
       " 'columntransformer__pipeline-2__normalizer__copy': True,\n",
       " 'columntransformer__pipeline-2__normalizer__norm': 'l2',\n",
       " 'columntransformer__pipeline-2__minmaxscaler__clip': False,\n",
       " 'columntransformer__pipeline-2__minmaxscaler__copy': True,\n",
       " 'columntransformer__pipeline-2__minmaxscaler__feature_range': (0, 1),\n",
       " 'decisiontreeclassifier__ccp_alpha': 0.0,\n",
       " 'decisiontreeclassifier__class_weight': None,\n",
       " 'decisiontreeclassifier__criterion': 'gini',\n",
       " 'decisiontreeclassifier__max_depth': None,\n",
       " 'decisiontreeclassifier__max_features': None,\n",
       " 'decisiontreeclassifier__max_leaf_nodes': None,\n",
       " 'decisiontreeclassifier__min_impurity_decrease': 0.0,\n",
       " 'decisiontreeclassifier__min_samples_leaf': 1,\n",
       " 'decisiontreeclassifier__min_samples_split': 2,\n",
       " 'decisiontreeclassifier__min_weight_fraction_leaf': 0.0,\n",
       " 'decisiontreeclassifier__random_state': 42,\n",
       " 'decisiontreeclassifier__splitter': 'best'}"
      ]
     },
     "execution_count": 115,
     "metadata": {},
     "output_type": "execute_result"
    }
   ],
   "source": [
    "## verificando todo os parâmetros do objeto pipe_final\n",
    "\n",
    "pipe_final.get_params()"
   ]
  },
  {
   "cell_type": "markdown",
   "id": "142efa18-e864-4ac0-9379-91f9718e48dc",
   "metadata": {},
   "source": [
    "Para o processo de otimização vamos tentar alterar os parâmetros :\n",
    "\n",
    "1. 'columntransformer__pipeline-2__normalizer__norm' -> ['l1','l2','max']\n",
    "2. 'columntransformer__pipeline-2__minmaxscaler' -> [MinMaxScaler(),StandardScaler()]\n",
    "3. 'decisiontreeclassifier__min_samples_leaf' -> range(10,50)\n",
    "4. 'decisiontreeclassifier__max_depth' -> range(1,20)\n",
    "\n",
    "Obs.: Percebam que o parâmetro 'columntransformer__pipeline-2__minmaxscaler' apesar de ter minmaxscaler no nome vamos alterá-lo para avaliarmos outras formas de pré-processamento das variáveis numéricas."
   ]
  },
  {
   "cell_type": "code",
   "execution_count": 116,
   "id": "cd3531d7-04d5-494c-b048-127b42deb5f4",
   "metadata": {},
   "outputs": [],
   "source": [
    "param_grid = {\n",
    "    'columntransformer__pipeline-2__normalizer__norm':Categorical(['l1','l2','max']),\n",
    "    'columntransformer__pipeline-2__minmaxscaler':Categorical([MinMaxScaler(),StandardScaler()]),\n",
    "    'decisiontreeclassifier__min_samples_leaf':Integer(10,50),\n",
    "    'decisiontreeclassifier__max_depth':Integer(1,20)\n",
    "}"
   ]
  },
  {
   "cell_type": "markdown",
   "id": "b1b967cd-7f16-43d1-a612-60c7fd7e43ab",
   "metadata": {},
   "source": [
    "Os parâmetros acima serão alterados em cada indivíduo e geração e somente os melhores serão utilizados para criar a próxima geração."
   ]
  },
  {
   "cell_type": "code",
   "execution_count": 123,
   "id": "bd4487ea-b3d8-4402-973a-c4ceb916295c",
   "metadata": {},
   "outputs": [
    {
     "data": {
      "text/html": [
       "<style>#sk-ac67682c-4f80-43aa-b2b3-efbbca82f91f {color: black;background-color: white;}#sk-ac67682c-4f80-43aa-b2b3-efbbca82f91f pre{padding: 0;}#sk-ac67682c-4f80-43aa-b2b3-efbbca82f91f div.sk-toggleable {background-color: white;}#sk-ac67682c-4f80-43aa-b2b3-efbbca82f91f label.sk-toggleable__label {cursor: pointer;display: block;width: 100%;margin-bottom: 0;padding: 0.3em;box-sizing: border-box;text-align: center;}#sk-ac67682c-4f80-43aa-b2b3-efbbca82f91f div.sk-toggleable__content {max-height: 0;max-width: 0;overflow: hidden;text-align: left;background-color: #f0f8ff;}#sk-ac67682c-4f80-43aa-b2b3-efbbca82f91f div.sk-toggleable__content pre {margin: 0.2em;color: black;border-radius: 0.25em;background-color: #f0f8ff;}#sk-ac67682c-4f80-43aa-b2b3-efbbca82f91f input.sk-toggleable__control:checked~div.sk-toggleable__content {max-height: 200px;max-width: 100%;overflow: auto;}#sk-ac67682c-4f80-43aa-b2b3-efbbca82f91f div.sk-estimator input.sk-toggleable__control:checked~label.sk-toggleable__label {background-color: #d4ebff;}#sk-ac67682c-4f80-43aa-b2b3-efbbca82f91f div.sk-label input.sk-toggleable__control:checked~label.sk-toggleable__label {background-color: #d4ebff;}#sk-ac67682c-4f80-43aa-b2b3-efbbca82f91f input.sk-hidden--visually {border: 0;clip: rect(1px 1px 1px 1px);clip: rect(1px, 1px, 1px, 1px);height: 1px;margin: -1px;overflow: hidden;padding: 0;position: absolute;width: 1px;}#sk-ac67682c-4f80-43aa-b2b3-efbbca82f91f div.sk-estimator {font-family: monospace;background-color: #f0f8ff;border: 1px dotted black;border-radius: 0.25em;box-sizing: border-box;margin-bottom: 0.5em;}#sk-ac67682c-4f80-43aa-b2b3-efbbca82f91f div.sk-estimator:hover {background-color: #d4ebff;}#sk-ac67682c-4f80-43aa-b2b3-efbbca82f91f div.sk-parallel-item::after {content: \"\";width: 100%;border-bottom: 1px solid gray;flex-grow: 1;}#sk-ac67682c-4f80-43aa-b2b3-efbbca82f91f div.sk-label:hover label.sk-toggleable__label {background-color: #d4ebff;}#sk-ac67682c-4f80-43aa-b2b3-efbbca82f91f div.sk-serial::before {content: \"\";position: absolute;border-left: 1px solid gray;box-sizing: border-box;top: 2em;bottom: 0;left: 50%;}#sk-ac67682c-4f80-43aa-b2b3-efbbca82f91f div.sk-serial {display: flex;flex-direction: column;align-items: center;background-color: white;padding-right: 0.2em;padding-left: 0.2em;}#sk-ac67682c-4f80-43aa-b2b3-efbbca82f91f div.sk-item {z-index: 1;}#sk-ac67682c-4f80-43aa-b2b3-efbbca82f91f div.sk-parallel {display: flex;align-items: stretch;justify-content: center;background-color: white;}#sk-ac67682c-4f80-43aa-b2b3-efbbca82f91f div.sk-parallel::before {content: \"\";position: absolute;border-left: 1px solid gray;box-sizing: border-box;top: 2em;bottom: 0;left: 50%;}#sk-ac67682c-4f80-43aa-b2b3-efbbca82f91f div.sk-parallel-item {display: flex;flex-direction: column;position: relative;background-color: white;}#sk-ac67682c-4f80-43aa-b2b3-efbbca82f91f div.sk-parallel-item:first-child::after {align-self: flex-end;width: 50%;}#sk-ac67682c-4f80-43aa-b2b3-efbbca82f91f div.sk-parallel-item:last-child::after {align-self: flex-start;width: 50%;}#sk-ac67682c-4f80-43aa-b2b3-efbbca82f91f div.sk-parallel-item:only-child::after {width: 0;}#sk-ac67682c-4f80-43aa-b2b3-efbbca82f91f div.sk-dashed-wrapped {border: 1px dashed gray;margin: 0 0.4em 0.5em 0.4em;box-sizing: border-box;padding-bottom: 0.4em;background-color: white;position: relative;}#sk-ac67682c-4f80-43aa-b2b3-efbbca82f91f div.sk-label label {font-family: monospace;font-weight: bold;background-color: white;display: inline-block;line-height: 1.2em;}#sk-ac67682c-4f80-43aa-b2b3-efbbca82f91f div.sk-label-container {position: relative;z-index: 2;text-align: center;}#sk-ac67682c-4f80-43aa-b2b3-efbbca82f91f div.sk-container {display: inline-block;position: relative;}</style><div id=\"sk-ac67682c-4f80-43aa-b2b3-efbbca82f91f\" class\"sk-top-container\"><div class=\"sk-container\"><div class=\"sk-item sk-dashed-wrapped\"><div class=\"sk-label-container\"><div class=\"sk-label sk-toggleable\"><input class=\"sk-toggleable__control sk-hidden--visually\" id=\"97001f04-ecc2-4ccf-bb01-420359cc4810\" type=\"checkbox\" ><label class=\"sk-toggleable__label\" for=\"97001f04-ecc2-4ccf-bb01-420359cc4810\">GASearchCV</label><div class=\"sk-toggleable__content\"><pre>GASearchCV(cv=10,\n",
       "           estimator=Pipeline(steps=[('columntransformer',\n",
       "                                      ColumnTransformer(transformers=[('pipeline-1',\n",
       "                                                                       Pipeline(steps=[('onehotencoder',\n",
       "                                                                                        OneHotEncoder())]),\n",
       "                                                                       ['Sex',\n",
       "                                                                        'ChestPainType',\n",
       "                                                                        'RestingECG',\n",
       "                                                                        'ExerciseAngina',\n",
       "                                                                        'ST_Slope']),\n",
       "                                                                      ('pipeline-2',\n",
       "                                                                       Pipeline(steps=[('normalizer',\n",
       "                                                                                        Normalizer(norm='max')),\n",
       "                                                                                       ('minmaxscaler',\n",
       "                                                                                        StandardScaler())]),\n",
       "                                                                       ['Age',\n",
       "                                                                        'RestingBP'...\n",
       "                       'columntransformer__pipeline-2__normalizer__norm': <sklearn_genetic.space.space.Categorical object at 0x0000012F0FF6BF40>,\n",
       "                       'decisiontreeclassifier__max_depth': <sklearn_genetic.space.space.Integer object at 0x0000012F0FF6EC40>,\n",
       "                       'decisiontreeclassifier__min_samples_leaf': <sklearn_genetic.space.space.Integer object at 0x0000012F0FF6BE50>},\n",
       "           return_train_score=True, scoring='f1')</pre></div></div></div><div class=\"sk-parallel\"><div class=\"sk-parallel-item\"><div class=\"sk-item\"><div class=\"sk-serial\"><div class=\"sk-item\"><div class=\"sk-serial\"><div class=\"sk-item sk-dashed-wrapped\"><div class=\"sk-label-container\"><div class=\"sk-label sk-toggleable\"><input class=\"sk-toggleable__control sk-hidden--visually\" id=\"85eed30a-b14d-42b2-91da-54254049459e\" type=\"checkbox\" ><label class=\"sk-toggleable__label\" for=\"85eed30a-b14d-42b2-91da-54254049459e\">columntransformer: ColumnTransformer</label><div class=\"sk-toggleable__content\"><pre>ColumnTransformer(transformers=[('pipeline-1',\n",
       "                                 Pipeline(steps=[('onehotencoder',\n",
       "                                                  OneHotEncoder())]),\n",
       "                                 ['Sex', 'ChestPainType', 'RestingECG',\n",
       "                                  'ExerciseAngina', 'ST_Slope']),\n",
       "                                ('pipeline-2',\n",
       "                                 Pipeline(steps=[('normalizer',\n",
       "                                                  Normalizer(norm='max')),\n",
       "                                                 ('minmaxscaler',\n",
       "                                                  StandardScaler())]),\n",
       "                                 ['Age', 'RestingBP', 'Cholesterol',\n",
       "                                  'FastingBS', 'MaxHR', 'Oldpeak'])])</pre></div></div></div><div class=\"sk-parallel\"><div class=\"sk-parallel-item\"><div class=\"sk-item\"><div class=\"sk-label-container\"><div class=\"sk-label sk-toggleable\"><input class=\"sk-toggleable__control sk-hidden--visually\" id=\"2646f01d-9124-4902-b248-a4c5e322c92e\" type=\"checkbox\" ><label class=\"sk-toggleable__label\" for=\"2646f01d-9124-4902-b248-a4c5e322c92e\">pipeline-1</label><div class=\"sk-toggleable__content\"><pre>['Sex', 'ChestPainType', 'RestingECG', 'ExerciseAngina', 'ST_Slope']</pre></div></div></div><div class=\"sk-serial\"><div class=\"sk-item\"><div class=\"sk-serial\"><div class=\"sk-item\"><div class=\"sk-estimator sk-toggleable\"><input class=\"sk-toggleable__control sk-hidden--visually\" id=\"47385dde-43e5-4e88-a93e-34c015bafbc1\" type=\"checkbox\" ><label class=\"sk-toggleable__label\" for=\"47385dde-43e5-4e88-a93e-34c015bafbc1\">OneHotEncoder</label><div class=\"sk-toggleable__content\"><pre>OneHotEncoder()</pre></div></div></div></div></div></div></div></div><div class=\"sk-parallel-item\"><div class=\"sk-item\"><div class=\"sk-label-container\"><div class=\"sk-label sk-toggleable\"><input class=\"sk-toggleable__control sk-hidden--visually\" id=\"48664720-5776-490a-b23f-9ac097c7d302\" type=\"checkbox\" ><label class=\"sk-toggleable__label\" for=\"48664720-5776-490a-b23f-9ac097c7d302\">pipeline-2</label><div class=\"sk-toggleable__content\"><pre>['Age', 'RestingBP', 'Cholesterol', 'FastingBS', 'MaxHR', 'Oldpeak']</pre></div></div></div><div class=\"sk-serial\"><div class=\"sk-item\"><div class=\"sk-serial\"><div class=\"sk-item\"><div class=\"sk-estimator sk-toggleable\"><input class=\"sk-toggleable__control sk-hidden--visually\" id=\"02508341-c4d3-407c-912c-1103a540fa15\" type=\"checkbox\" ><label class=\"sk-toggleable__label\" for=\"02508341-c4d3-407c-912c-1103a540fa15\">Normalizer</label><div class=\"sk-toggleable__content\"><pre>Normalizer(norm='max')</pre></div></div></div><div class=\"sk-item\"><div class=\"sk-estimator sk-toggleable\"><input class=\"sk-toggleable__control sk-hidden--visually\" id=\"4042942d-9b81-453c-b671-5d5f176abfac\" type=\"checkbox\" ><label class=\"sk-toggleable__label\" for=\"4042942d-9b81-453c-b671-5d5f176abfac\">StandardScaler</label><div class=\"sk-toggleable__content\"><pre>StandardScaler()</pre></div></div></div></div></div></div></div></div></div></div><div class=\"sk-item\"><div class=\"sk-estimator sk-toggleable\"><input class=\"sk-toggleable__control sk-hidden--visually\" id=\"e3c1e073-81cf-4fb1-bb2a-faa119461ccf\" type=\"checkbox\" ><label class=\"sk-toggleable__label\" for=\"e3c1e073-81cf-4fb1-bb2a-faa119461ccf\">DecisionTreeClassifier</label><div class=\"sk-toggleable__content\"><pre>DecisionTreeClassifier(max_depth=4, min_samples_leaf=30, random_state=42)</pre></div></div></div></div></div></div></div></div></div></div></div></div>"
      ],
      "text/plain": [
       "GASearchCV(cv=10,\n",
       "           estimator=Pipeline(steps=[('columntransformer',\n",
       "                                      ColumnTransformer(transformers=[('pipeline-1',\n",
       "                                                                       Pipeline(steps=[('onehotencoder',\n",
       "                                                                                        OneHotEncoder())]),\n",
       "                                                                       ['Sex',\n",
       "                                                                        'ChestPainType',\n",
       "                                                                        'RestingECG',\n",
       "                                                                        'ExerciseAngina',\n",
       "                                                                        'ST_Slope']),\n",
       "                                                                      ('pipeline-2',\n",
       "                                                                       Pipeline(steps=[('normalizer',\n",
       "                                                                                        Normalizer(norm='max')),\n",
       "                                                                                       ('minmaxscaler',\n",
       "                                                                                        StandardScaler())]),\n",
       "                                                                       ['Age',\n",
       "                                                                        'RestingBP'...\n",
       "                       'columntransformer__pipeline-2__normalizer__norm': <sklearn_genetic.space.space.Categorical object at 0x0000012F0FF6BF40>,\n",
       "                       'decisiontreeclassifier__max_depth': <sklearn_genetic.space.space.Integer object at 0x0000012F0FF6EC40>,\n",
       "                       'decisiontreeclassifier__min_samples_leaf': <sklearn_genetic.space.space.Integer object at 0x0000012F0FF6BE50>},\n",
       "           return_train_score=True, scoring='f1')"
      ]
     },
     "execution_count": 123,
     "metadata": {},
     "output_type": "execute_result"
    }
   ],
   "source": [
    "callbacks = [ProgressBar(),DeltaThreshold(0.0001,generations=3)]\n",
    "\n",
    "clf_evolution = GASearchCV(estimator=pipe_final,\n",
    "                     cv=10,\n",
    "                     generations=10,\n",
    "                     scoring='f1',\n",
    "                     param_grid=param_grid,\n",
    "                     n_jobs=-1,\n",
    "                     verbose=True,\n",
    "                     refit=True)\n",
    "\n",
    "clf_evolution"
   ]
  },
  {
   "cell_type": "code",
   "execution_count": 124,
   "id": "8f67eb5e-b86f-4c61-a9bd-f4a710e9ee2e",
   "metadata": {},
   "outputs": [
    {
     "data": {
      "application/vnd.jupyter.widget-view+json": {
       "model_id": "b18ef05894934af6ab07ddb9f2a120c9",
       "version_major": 2,
       "version_minor": 0
      },
      "text/plain": [
       "  0%|          | 0/11 [00:00<?, ?it/s]"
      ]
     },
     "metadata": {},
     "output_type": "display_data"
    },
    {
     "name": "stdout",
     "output_type": "stream",
     "text": [
      "gen\tnevals\tfitness\tfitness_std\tfitness_max\tfitness_min\n",
      "0  \t10    \t0.82656\t0.00796266 \t0.836824   \t0.815855   \n",
      "1  \t18    \t0.832648\t0.00235025 \t0.836824   \t0.829703   \n",
      "2  \t18    \t0.833184\t0.00187984 \t0.835304   \t0.831317   \n",
      "3  \t19    \t0.834856\t0.00245149 \t0.840699   \t0.831317   \n",
      "4  \t17    \t0.835381\t0.00212942 \t0.840699   \t0.831317   \n",
      "5  \t16    \t0.835304\t0          \t0.835304   \t0.835304   \n",
      "6  \t18    \t0.835304\t0          \t0.835304   \t0.835304   \n",
      "INFO: DeltaThreshold callback met its criteria\n",
      "INFO: Stopping the algorithm\n"
     ]
    }
   ],
   "source": [
    "evolved_model = clf_evolution.fit(x,y,callbacks=callbacks)"
   ]
  },
  {
   "cell_type": "code",
   "execution_count": 125,
   "id": "04fcd188-8ad6-41d4-a6fb-3bc01de40d1d",
   "metadata": {},
   "outputs": [
    {
     "data": {
      "text/plain": [
       "{'columntransformer__pipeline-2__normalizer__norm': 'l2',\n",
       " 'columntransformer__pipeline-2__minmaxscaler': MinMaxScaler(),\n",
       " 'decisiontreeclassifier__min_samples_leaf': 22,\n",
       " 'decisiontreeclassifier__max_depth': 19}"
      ]
     },
     "execution_count": 125,
     "metadata": {},
     "output_type": "execute_result"
    }
   ],
   "source": [
    "evolved_model.best_params_"
   ]
  },
  {
   "cell_type": "markdown",
   "id": "4c0ef465-97e2-497f-9815-3faf97698ccb",
   "metadata": {},
   "source": [
    "## Conclusão"
   ]
  },
  {
   "cell_type": "markdown",
   "id": "5d147f5f-beaf-4589-bcc5-091bc3682821",
   "metadata": {},
   "source": [
    "A validação cruzada da modelagem sem otimização resultou em um f1 (de teste, classe positiva) de 0.79. Enquanto o mesmo modelo passando por um processo de otimização através de algoritmo genético consegue chegar em um f1 (de teste, classe positiva) de 0.83. O processo de otimização, com certeza, ajudou, porém é interessante efetuar teste me problemas mais complexos e outros tipos de de dados, o próximo passo é tentar com redes neurais!!"
   ]
  }
 ],
 "metadata": {
  "kernelspec": {
   "display_name": "Python 3 (ipykernel)",
   "language": "python",
   "name": "python3"
  },
  "language_info": {
   "codemirror_mode": {
    "name": "ipython",
    "version": 3
   },
   "file_extension": ".py",
   "mimetype": "text/x-python",
   "name": "python",
   "nbconvert_exporter": "python",
   "pygments_lexer": "ipython3",
   "version": "3.9.7"
  }
 },
 "nbformat": 4,
 "nbformat_minor": 5
}
